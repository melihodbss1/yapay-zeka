{
  "nbformat": 4,
  "nbformat_minor": 0,
  "metadata": {
    "colab": {
      "provenance": [],
      "toc_visible": true
    },
    "kernelspec": {
      "name": "python3",
      "display_name": "Python 3"
    },
    "language_info": {
      "name": "python"
    }
  },
  "cells": [
    {
      "cell_type": "code",
      "execution_count": 3,
      "metadata": {
        "id": "fkG2zPtyFJyQ"
      },
      "outputs": [],
      "source": [
        "import numpy as np"
      ]
    },
    {
      "cell_type": "markdown",
      "source": [
        "# 1) (10,15,30,45,60) değerlerine sahip numpy dizisini oluştur."
      ],
      "metadata": {
        "id": "jcFTJwjCG3L4"
      }
    },
    {
      "cell_type": "code",
      "source": [
        "result=np.array([10,15,30,45,60])\n",
        "result"
      ],
      "metadata": {
        "colab": {
          "base_uri": "https://localhost:8080/"
        },
        "id": "hjwNAZjYHUBC",
        "outputId": "3fb83008-2e1b-400a-d1ca-d8ba069747e6"
      },
      "execution_count": 4,
      "outputs": [
        {
          "output_type": "execute_result",
          "data": {
            "text/plain": [
              "array([10, 15, 30, 45, 60])"
            ]
          },
          "metadata": {},
          "execution_count": 4
        }
      ]
    },
    {
      "cell_type": "markdown",
      "source": [
        "# 2)5-15 arasındaki sayılarla bir dizi oluştur."
      ],
      "metadata": {
        "id": "BrizDddhHoJw"
      }
    },
    {
      "cell_type": "code",
      "source": [
        "result=np.arange(5,15)\n",
        "result"
      ],
      "metadata": {
        "colab": {
          "base_uri": "https://localhost:8080/"
        },
        "id": "LLqujWr5HhVg",
        "outputId": "128fc9bc-c83e-4c1b-878f-e8a6fc4a0086"
      },
      "execution_count": 6,
      "outputs": [
        {
          "output_type": "execute_result",
          "data": {
            "text/plain": [
              "array([ 5,  6,  7,  8,  9, 10, 11, 12, 13, 14])"
            ]
          },
          "metadata": {},
          "execution_count": 6
        }
      ]
    },
    {
      "cell_type": "markdown",
      "source": [
        "# 3)(50-100 arasında 5 er 5 er bir dizi oluştur."
      ],
      "metadata": {
        "id": "VMXcG3YvIDmZ"
      }
    },
    {
      "cell_type": "code",
      "source": [
        "result=np.arange(50,100,5)\n",
        "result"
      ],
      "metadata": {
        "colab": {
          "base_uri": "https://localhost:8080/"
        },
        "id": "3h_GTaQhIS6A",
        "outputId": "01946b28-ce25-4cac-d512-24fdb5ee0122"
      },
      "execution_count": 7,
      "outputs": [
        {
          "output_type": "execute_result",
          "data": {
            "text/plain": [
              "array([50, 55, 60, 65, 70, 75, 80, 85, 90, 95])"
            ]
          },
          "metadata": {},
          "execution_count": 7
        }
      ]
    },
    {
      "cell_type": "markdown",
      "source": [
        "# 4)(10 elemanlı sıfırlardan oluşan bir dizi oluşturunuz."
      ],
      "metadata": {
        "id": "-E-H7NRNIZ9Y"
      }
    },
    {
      "cell_type": "code",
      "source": [
        "result=np.zeros(10)\n",
        "result"
      ],
      "metadata": {
        "colab": {
          "base_uri": "https://localhost:8080/"
        },
        "id": "E0LG1eDfJv34",
        "outputId": "a4641760-5b09-4f04-858b-e13980fef4b2"
      },
      "execution_count": 8,
      "outputs": [
        {
          "output_type": "execute_result",
          "data": {
            "text/plain": [
              "array([0., 0., 0., 0., 0., 0., 0., 0., 0., 0.])"
            ]
          },
          "metadata": {},
          "execution_count": 8
        }
      ]
    },
    {
      "cell_type": "markdown",
      "source": [
        "# 5)(10 elemanlı birlerden oluşan bir dizi oluşturunuz."
      ],
      "metadata": {
        "id": "aCVgWm9oKJIH"
      }
    },
    {
      "cell_type": "code",
      "source": [
        "result=np.ones(10)\n",
        "result"
      ],
      "metadata": {
        "colab": {
          "base_uri": "https://localhost:8080/"
        },
        "id": "javgkHfVKRdG",
        "outputId": "8043d17e-1c18-4370-f65a-5dbc3f9265c7"
      },
      "execution_count": 9,
      "outputs": [
        {
          "output_type": "execute_result",
          "data": {
            "text/plain": [
              "array([1., 1., 1., 1., 1., 1., 1., 1., 1., 1.])"
            ]
          },
          "metadata": {},
          "execution_count": 9
        }
      ]
    },
    {
      "cell_type": "markdown",
      "source": [
        "# 6)(0-100) arasında eşit aralıklı 5 sayı üretin."
      ],
      "metadata": {
        "id": "DMX-ceC3Ka0u"
      }
    },
    {
      "cell_type": "code",
      "source": [
        "result= np.linspace(0,100,5)\n",
        "result"
      ],
      "metadata": {
        "colab": {
          "base_uri": "https://localhost:8080/"
        },
        "id": "8Q8VfiJnLHWm",
        "outputId": "571f15d9-405d-4116-a12d-227b9eb15ba4"
      },
      "execution_count": 10,
      "outputs": [
        {
          "output_type": "execute_result",
          "data": {
            "text/plain": [
              "array([  0.,  25.,  50.,  75., 100.])"
            ]
          },
          "metadata": {},
          "execution_count": 10
        }
      ]
    },
    {
      "cell_type": "markdown",
      "source": [
        "# 7)(10-30) arasında rastgele 5 tane tamsayı üretin."
      ],
      "metadata": {
        "id": "gvu7GNa3Ln0-"
      }
    },
    {
      "cell_type": "code",
      "source": [
        "result= np.random.randint(10,30,5)\n",
        "result"
      ],
      "metadata": {
        "colab": {
          "base_uri": "https://localhost:8080/"
        },
        "id": "OyoqOXoWLwL3",
        "outputId": "1e0dfe3d-d5cc-44e7-f69f-6912df0f4690"
      },
      "execution_count": 11,
      "outputs": [
        {
          "output_type": "execute_result",
          "data": {
            "text/plain": [
              "array([29, 17, 21, 13, 15])"
            ]
          },
          "metadata": {},
          "execution_count": 11
        }
      ]
    },
    {
      "cell_type": "markdown",
      "source": [
        "# 8)[-1 ile 1] arasında 10 adet sayı üretin."
      ],
      "metadata": {
        "id": "wWawoCcNMGpm"
      }
    },
    {
      "cell_type": "code",
      "source": [
        "result= np.random.randn(10)\n",
        "result"
      ],
      "metadata": {
        "colab": {
          "base_uri": "https://localhost:8080/"
        },
        "id": "ZAdqruTyMRDl",
        "outputId": "3aaa470e-e349-4d3e-9723-c34a5f6c591b"
      },
      "execution_count": 12,
      "outputs": [
        {
          "output_type": "execute_result",
          "data": {
            "text/plain": [
              "array([ 0.13068908, -0.101474  , -0.55639161, -1.68517145, -1.0012886 ,\n",
              "        0.05547291, -1.62392747,  0.29952296, -0.93442889, -1.24638606])"
            ]
          },
          "metadata": {},
          "execution_count": 12
        }
      ]
    },
    {
      "cell_type": "markdown",
      "source": [
        "# 9)(3x5) boyutlarında (10-50) arasında rastgele bir matris oluşturunuz."
      ],
      "metadata": {
        "id": "YPizOWSoMX8u"
      }
    },
    {
      "cell_type": "code",
      "source": [
        "result= np.random.randint(10,50,15).reshape(3,5)\n",
        "result"
      ],
      "metadata": {
        "colab": {
          "base_uri": "https://localhost:8080/"
        },
        "id": "v7BfIJh4MqhV",
        "outputId": "e54825f1-c2a3-4909-d3c6-16f43a229e1e"
      },
      "execution_count": 13,
      "outputs": [
        {
          "output_type": "execute_result",
          "data": {
            "text/plain": [
              "array([[40, 25, 27, 29, 10],\n",
              "       [27, 49, 18, 40, 46],\n",
              "       [28, 40, 41, 31, 24]])"
            ]
          },
          "metadata": {},
          "execution_count": 13
        }
      ]
    },
    {
      "cell_type": "markdown",
      "source": [
        "# 10) Üretilen matrisin satır ve sütun sayıları toplamlarını hesaplayınız ?"
      ],
      "metadata": {
        "id": "3S7-z4BcM3IN"
      }
    },
    {
      "cell_type": "code",
      "source": [
        "matris = np.random.randint(10,50,15).reshape(3,5)\n",
        "rowTotal = matris.sum(axis= 1)\n",
        "colTotal = matris.sum(axis= 0)\n",
        "print(matris)\n",
        "print(rowTotal)\n",
        "print(colTotal)"
      ],
      "metadata": {
        "colab": {
          "base_uri": "https://localhost:8080/"
        },
        "id": "wLB7or2ANERN",
        "outputId": "c7f52548-b251-4abf-9336-19c143896595"
      },
      "execution_count": 14,
      "outputs": [
        {
          "output_type": "stream",
          "name": "stdout",
          "text": [
            "[[32 13 44 15 26]\n",
            " [36 41 37 24 25]\n",
            " [38 20 29 14 12]]\n",
            "[130 163 113]\n",
            "[106  74 110  53  63]\n"
          ]
        }
      ]
    },
    {
      "cell_type": "markdown",
      "source": [
        "# 11) Üretilen matrisin en büyük, en küçük ve ortalaması nedir ?"
      ],
      "metadata": {
        "id": "huVBcA0UNl1k"
      }
    },
    {
      "cell_type": "code",
      "source": [
        "result = matris.max()\n",
        "result = matris.min()\n",
        "result = matris.mean()"
      ],
      "metadata": {
        "id": "tmHbDe-SNs2E"
      },
      "execution_count": 16,
      "outputs": []
    },
    {
      "cell_type": "markdown",
      "source": [
        "# 12) Üretilen matrisin en büyük değerinin indeksi kaçtır ?"
      ],
      "metadata": {
        "id": "9V_-qw-uN4-k"
      }
    },
    {
      "cell_type": "code",
      "source": [
        "result = matris.argmax()\n",
        "result = matris.argmin()"
      ],
      "metadata": {
        "id": "goD_vDjmOAqL"
      },
      "execution_count": 17,
      "outputs": []
    },
    {
      "cell_type": "markdown",
      "source": [
        "# 13) (10-20) arasındaki sayıları içeren dizinin ilk 3 elemanını seçiniz."
      ],
      "metadata": {
        "id": "UJ5DiSNhOGrL"
      }
    },
    {
      "cell_type": "code",
      "source": [
        "arr = np.arange(10,20)\n",
        "print(arr)\n",
        "\n",
        "result = arr[:3]\n"
      ],
      "metadata": {
        "colab": {
          "base_uri": "https://localhost:8080/"
        },
        "id": "3nATHThaOO-r",
        "outputId": "595acb0a-e156-4de0-9a41-f84af8ce71bd"
      },
      "execution_count": 18,
      "outputs": [
        {
          "output_type": "stream",
          "name": "stdout",
          "text": [
            "[10 11 12 13 14 15 16 17 18 19]\n"
          ]
        }
      ]
    },
    {
      "cell_type": "markdown",
      "source": [
        "# 14) Üretilen dizinin elemanlarını tersten yazdırın."
      ],
      "metadata": {
        "id": "g076QU0YOYAE"
      }
    },
    {
      "cell_type": "code",
      "source": [
        "result = arr[::-1]"
      ],
      "metadata": {
        "id": "rWnSFCWcOeXs"
      },
      "execution_count": 19,
      "outputs": []
    },
    {
      "cell_type": "markdown",
      "source": [
        "# 15) Üretilen matrisin ilk satırını seçiniz."
      ],
      "metadata": {
        "id": "BrmLlokLOlEl"
      }
    },
    {
      "cell_type": "code",
      "source": [
        "result = matris[0]"
      ],
      "metadata": {
        "id": "H_S1-9ZCOpTc"
      },
      "execution_count": 20,
      "outputs": []
    },
    {
      "cell_type": "markdown",
      "source": [
        "# 16) Üretilen matrisin 2.satır 3.sütundaki elemanı hangisidir ?"
      ],
      "metadata": {
        "id": "xPnr_zG0Ou2r"
      }
    },
    {
      "cell_type": "code",
      "source": [
        "result = matris[1,2]"
      ],
      "metadata": {
        "id": "y5gIwhV-O2BE"
      },
      "execution_count": 21,
      "outputs": []
    },
    {
      "cell_type": "markdown",
      "source": [
        "# 17) Üretilen matrisin tüm satırlardaki ilk elemanı seçiiz."
      ],
      "metadata": {
        "id": "hhvr7QNkO5ME"
      }
    },
    {
      "cell_type": "code",
      "source": [
        "result = matris[:,0]"
      ],
      "metadata": {
        "id": "2eIOEsAJO_r7"
      },
      "execution_count": 22,
      "outputs": []
    },
    {
      "cell_type": "markdown",
      "source": [
        "# 18) Üretilen matrisin her bir elemanının karesini alınız."
      ],
      "metadata": {
        "id": "1ZBQvaiwPFPD"
      }
    },
    {
      "cell_type": "code",
      "source": [
        "result = matris ** 2"
      ],
      "metadata": {
        "id": "BZDiSBKlPMGM"
      },
      "execution_count": 23,
      "outputs": []
    },
    {
      "cell_type": "markdown",
      "source": [
        "# 19) Üretilen matris elemanlarının hangisi pozitif çift sayıdır ?\n",
        "#    Aralığı (-50,+50) arasında yapınız."
      ],
      "metadata": {
        "id": "iw7kBjo2PQjT"
      }
    },
    {
      "cell_type": "code",
      "source": [
        "ciftler = matris[matris % 2 == 0]\n",
        "result = ciftler[ciftler>0]\n",
        "\n",
        "print(result)"
      ],
      "metadata": {
        "colab": {
          "base_uri": "https://localhost:8080/"
        },
        "id": "NBPBCpK4Pctz",
        "outputId": "a16df1ee-5c91-4437-b423-94e80ee8e4d4"
      },
      "execution_count": 24,
      "outputs": [
        {
          "output_type": "stream",
          "name": "stdout",
          "text": [
            "[32 44 26 36 24 38 20 14 12]\n"
          ]
        }
      ]
    }
  ]
}